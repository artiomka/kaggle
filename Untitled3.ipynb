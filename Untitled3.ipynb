{
 "cells": [
  {
   "cell_type": "code",
   "execution_count": 2,
   "metadata": {
    "collapsed": false
   },
   "outputs": [],
   "source": [
    "import sys\n",
    "import pandas as pd\n",
    "import numpy as np\n",
    "from sklearn.ensemble import RandomForestClassifier\n",
    "from sklearn.cross_validation import train_test_split"
   ]
  },
  {
   "cell_type": "code",
   "execution_count": 3,
   "metadata": {
    "collapsed": false
   },
   "outputs": [
    {
     "name": "stdout",
     "output_type": "stream",
     "text": [
      "/Users/martiom/kaggle\n"
     ]
    }
   ],
   "source": [
    "cd kaggle"
   ]
  },
  {
   "cell_type": "code",
   "execution_count": 4,
   "metadata": {
    "collapsed": false
   },
   "outputs": [],
   "source": [
    "train_file = 'train_processed.csv'\n",
    "test_file = 'test_processed.csv'\n",
    "train_df = pd.read_csv(train_file)\n",
    "test_df = pd.read_csv(test_file)\n",
    "target_col = 'QuoteConversion_Flag'\n",
    "features_col = [x for x in train_df.columns if x not in [target_col, 'QuoteNumber']]"
   ]
  },
  {
   "cell_type": "code",
   "execution_count": 5,
   "metadata": {
    "collapsed": false
   },
   "outputs": [
    {
     "name": "stdout",
     "output_type": "stream",
     "text": [
      "<class 'pandas.core.frame.DataFrame'>\n",
      "Int64Index: 208602 entries, 61019 to 237179\n",
      "Columns: 604 entries, Field7 to QuoteNumber\n",
      "dtypes: float64(602), int64(2)\n",
      "memory usage: 962.9 MB\n",
      "<class 'pandas.core.frame.DataFrame'>\n",
      "Int64Index: 52151 entries, 155387 to 142363\n",
      "Columns: 604 entries, Field7 to QuoteNumber\n",
      "dtypes: float64(602), int64(2)\n",
      "memory usage: 240.7 MB\n"
     ]
    }
   ],
   "source": [
    "training, testing = train_test_split(train_df, train_size=0.8)\n",
    "training.info()\n",
    "testing.info()\n"
   ]
  },
  {
   "cell_type": "code",
   "execution_count": 33,
   "metadata": {
    "collapsed": false
   },
   "outputs": [
    {
     "name": "stdout",
     "output_type": "stream",
     "text": [
      "0.920442561025\n",
      "1 loops, best of 1: 11min 44s per loop\n"
     ]
    }
   ],
   "source": [
    "%%timeit -n 1 -r 1\n",
    "from sklearn.ensemble import RandomForestClassifier\n",
    "from sklearn.ensemble import GradientBoostingClassifier as GBC\n",
    "rl_clf = GBC(n_estimators = 500) #RandomForestClassifier(n_estimators=50)\n",
    "\n",
    "rl_clf.fit(training[features_col], training[target_col])\n"
   ]
  },
  {
   "cell_type": "code",
   "execution_count": 34,
   "metadata": {
    "collapsed": false
   },
   "outputs": [
    {
     "name": "stdout",
     "output_type": "stream",
     "text": [
      "0.922992109376\n"
     ]
    }
   ],
   "source": [
    "print rl_clf.score(training[features_col], training[target_col])\n",
    "print rl_clf.score(testing[features_col], testing[target_col])\n"
   ]
  },
  {
   "cell_type": "code",
   "execution_count": 11,
   "metadata": {
    "collapsed": false
   },
   "outputs": [
    {
     "data": {
      "text/plain": [
       "(173836, 2)"
      ]
     },
     "execution_count": 11,
     "metadata": {},
     "output_type": "execute_result"
    }
   ],
   "source": [
    "t.shape"
   ]
  },
  {
   "cell_type": "code",
   "execution_count": 12,
   "metadata": {
    "collapsed": false
   },
   "outputs": [],
   "source": [
    "test_df['QuoteConversion_Flag'] = t[:,1]\n",
    "test_df[['QuoteNumber', 'QuoteConversion_Flag']].to_csv('submission.csv', index=False)"
   ]
  },
  {
   "cell_type": "code",
   "execution_count": 13,
   "metadata": {
    "collapsed": true
   },
   "outputs": [],
   "source": [
    "import xgboost as xgb"
   ]
  },
  {
   "cell_type": "code",
   "execution_count": 31,
   "metadata": {
    "collapsed": false
   },
   "outputs": [
    {
     "name": "stdout",
     "output_type": "stream",
     "text": [
      "1 loops, best of 1: 5min 18s per loop\n"
     ]
    }
   ],
   "source": [
    "%%timeit -n 1 -r 1 \n",
    "# xgb_clf = xgb.XGBClassifier(n_estimators = 100, nthread=-1, max_depth=4, learning_rate=0.05,subsample=0.5,colsample_bytree=0.8)\n",
    "\n",
    "xgb_clf = xgb.XGBClassifier()\n",
    "xgb_model = xgb_clf.fit(training[features_col], training[target_col], eval_metric = \"auc\")"
   ]
  },
  {
   "cell_type": "code",
   "execution_count": 32,
   "metadata": {
    "collapsed": false
   },
   "outputs": [
    {
     "data": {
      "text/plain": [
       "0.91674176909359362"
      ]
     },
     "execution_count": 32,
     "metadata": {},
     "output_type": "execute_result"
    }
   ],
   "source": [
    "xgb_clf.score(testing[features_col], testing[target_col])"
   ]
  }
 ],
 "metadata": {
  "kernelspec": {
   "display_name": "Python 2",
   "language": "python",
   "name": "python2"
  },
  "language_info": {
   "codemirror_mode": {
    "name": "ipython",
    "version": 2
   },
   "file_extension": ".py",
   "mimetype": "text/x-python",
   "name": "python",
   "nbconvert_exporter": "python",
   "pygments_lexer": "ipython2",
   "version": "2.7.11"
  }
 },
 "nbformat": 4,
 "nbformat_minor": 0
}
