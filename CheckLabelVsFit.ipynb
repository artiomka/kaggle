{
 "cells": [
  {
   "cell_type": "code",
   "execution_count": 1,
   "metadata": {
    "collapsed": false
   },
   "outputs": [
    {
     "data": {
      "text/plain": [
       "u'/Users/martiom/kaggle'"
      ]
     },
     "execution_count": 1,
     "metadata": {},
     "output_type": "execute_result"
    }
   ],
   "source": [
    "pwd"
   ]
  },
  {
   "cell_type": "code",
   "execution_count": 4,
   "metadata": {
    "collapsed": true
   },
   "outputs": [],
   "source": [
    "import pandas as pd\n",
    "import numpy as np\n",
    "import xgboost as xgb\n",
    "from sklearn import preprocessing as pre\n",
    "from sklearn.cross_validation import train_test_split\n",
    "from sklearn.ensemble import RandomForestClassifier, BaggingClassifier\n",
    "from sklearn.ensemble import GradientBoostingClassifier as GBC\n",
    "from sklearn.calibration import CalibratedClassifierCV\n"
   ]
  },
  {
   "cell_type": "code",
   "execution_count": 5,
   "metadata": {
    "collapsed": false
   },
   "outputs": [],
   "source": [
    "clf = RandomForestClassifier()"
   ]
  },
  {
   "cell_type": "code",
   "execution_count": 9,
   "metadata": {
    "collapsed": true
   },
   "outputs": [],
   "source": [
    "import xgboost\n",
    "import numpy as np\n",
    "\n",
    "from time import time\n",
    "from operator import itemgetter\n",
    "from scipy.stats import randint as sp_randint\n",
    "\n",
    "from sklearn.grid_search import GridSearchCV, RandomizedSearchCV\n",
    "from sklearn.datasets import load_digits\n",
    "from sklearn.ensemble import RandomForestClassifier"
   ]
  },
  {
   "cell_type": "code",
   "execution_count": 10,
   "metadata": {
    "collapsed": true
   },
   "outputs": [],
   "source": [
    "RandomizedSearchCV?"
   ]
  },
  {
   "cell_type": "code",
   "execution_count": 4,
   "metadata": {
    "collapsed": true
   },
   "outputs": [],
   "source": [
    "train = pd.read_csv('train.csv')\n",
    "train.replace([' ', '', -1], np.nan, inplace = True)"
   ]
  },
  {
   "cell_type": "code",
   "execution_count": 25,
   "metadata": {
    "collapsed": false
   },
   "outputs": [
    {
     "name": "stdout",
     "output_type": "stream",
     "text": [
      "{dtype('O'): 28, dtype('int64'): 121, dtype('float64'): 150}\n",
      "{'Prope': 47, 'Quote': 2, 'Cover': 16, 'Sales': 17, 'Field': 7, 'Perso': 83, 'Geogr': 126, 'Origi': 1}\n",
      "{dtype('O'): 8, dtype('int64'): 18, dtype('float64'): 15}\n",
      "{'Prope': 4, 'Perso': 18, 'Geogr': 19}\n",
      "{66: 1, 4: 1, 5: 2, 7: 1, 13: 1, 14: 3, 50: 1, 22: 1, 57: 1, 61: 1, 30: 1}\n"
     ]
    }
   ],
   "source": [
    "from collections import defaultdict\n",
    "typed = defaultdict(int)\n",
    "prefix = defaultdict(int)\n",
    "\n",
    "for c in train.columns:\n",
    "    typed[train[c].dtype] += 1\n",
    "    prefix[c[:5]] += 1\n",
    "print dict(typed)\n",
    "print dict(prefix)\n",
    "\n",
    "\n",
    "typed = defaultdict(int)\n",
    "prefix = defaultdict(int)\n",
    "ul = defaultdict(int)\n",
    "\n",
    "for c in train.columns[54:68]:\n",
    "    typed[train[c].dtype] += 1\n",
    "    prefix[c[:5]] += 1\n",
    "    ul[len(train[c].unique())] += 1\n",
    "for c in train.columns[109:113]:\n",
    "    typed[train[c].dtype] += 1\n",
    "    prefix[c[:5]] += 1\n",
    "for c in train.columns[169:183]:\n",
    "    typed[train[c].dtype] += 1\n",
    "    prefix[c[:5]] += 1\n",
    "for c in train.columns[244:248]:\n",
    "    typed[train[c].dtype] += 1\n",
    "    prefix[c[:5]] += 1\n",
    "for c in train.columns[294:299]:\n",
    "    typed[train[c].dtype] += 1\n",
    "    prefix[c[:5]] += 1\n",
    "\n",
    "print dict(typed)\n",
    "print dict(prefix)\n",
    "print dict(ul)"
   ]
  },
  {
   "cell_type": "markdown",
   "metadata": {},
   "source": [
    "Load data\n",
    "Extract labels\n",
    "Remove labels and quote number\n",
    "    Convert date to datetime"
   ]
  },
  {
   "cell_type": "code",
   "execution_count": 10,
   "metadata": {
    "collapsed": true
   },
   "outputs": [],
   "source": [
    "execfile('preprocessing.py')"
   ]
  },
  {
   "cell_type": "code",
   "execution_count": 16,
   "metadata": {
    "collapsed": false
   },
   "outputs": [
    {
     "name": "stdout",
     "output_type": "stream",
     "text": [
      "(260753, 247) (260753, 299)\n"
     ]
    }
   ],
   "source": [
    "# keep only good rows\n",
    "chosen_indices = range(0, 53) + range(68, 109) + range(113, 169) + range(183, 234) + range(248, 294)\n",
    "train_chosen = train.iloc[:, chosen_indices]\n",
    "print train_chosen.shape, train.shape"
   ]
  },
  {
   "cell_type": "markdown",
   "metadata": {},
   "source": [
    "convert date.\n",
    "extract year, month, day, weekday from date and drop date"
   ]
  },
  {
   "cell_type": "code",
   "execution_count": 133,
   "metadata": {
    "collapsed": false
   },
   "outputs": [
    {
     "name": "stdout",
     "output_type": "stream",
     "text": [
      "QuoteNumber skipped\n",
      "Original_Quote_Date skipped\n",
      "QuoteConversion_Flag skipped\n",
      "(260753, 285) (260753,)\n"
     ]
    }
   ],
   "source": [
    "X, y = convert_data(train, cat2vectors = False, normalize_numeric = False)\n",
    "print X.shape, y.shape"
   ]
  },
  {
   "cell_type": "markdown",
   "metadata": {},
   "source": [
    "- label encoder vs one hot encoder\n",
    "- median calculation\n",
    "- data normalization (without median)"
   ]
  },
  {
   "cell_type": "code",
   "execution_count": 142,
   "metadata": {
    "collapsed": false
   },
   "outputs": [
    {
     "name": "stdout",
     "output_type": "stream",
     "text": [
      "(234677, 285) (23467, 285) (26076, 285)\n"
     ]
    }
   ],
   "source": [
    "Xtrain, Xtest, ytrain, ytest = train_test_split(X, y, test_size=0.1, random_state=888)\n",
    "#Xvalidation, Xtest, yvalidation, ytest = train_test_split(Xtest, ytest, test_size = 0.7, random_state = 8)\n",
    "print Xtrain.shape, Xvalidation.shape, Xtest.shape"
   ]
  },
  {
   "cell_type": "code",
   "execution_count": 75,
   "metadata": {
    "collapsed": false
   },
   "outputs": [],
   "source": [
    "print xgb.cv?"
   ]
  },
  {
   "cell_type": "code",
   "execution_count": 1,
   "metadata": {
    "collapsed": true
   },
   "outputs": [],
   "source": [
    "def check_xboost(Xtrain, ytrain, Xvalidation, yvalidation, Xtest, ytest, num_boost_root=30):\n",
    "    dtrain = xgb.DMatrix(Xtrain, ytrain)\n",
    "    clf = xgb.XGBClassifier(learning_rate=0.02, max_depth = 10, \n",
    "                            subsample =0.85, colsample_bytree = 0.66)\n",
    "    booster_params = clf.get_params()\n",
    "    booster_params['eval_metric'] = \"auc\"\n",
    "    booster_params['eval_set'] = ((Xvalidation, yvalidation), (Xtrain, ytrain))\n",
    "    v = xgb.cv(booster_params, dtrain, num_boost_round = num_boost_round,\n",
    "              early_stopping_rounds = 150\n",
    "              )\n",
    "    print v"
   ]
  },
  {
   "cell_type": "code",
   "execution_count": 140,
   "metadata": {
    "collapsed": false
   },
   "outputs": [],
   "source": [
    "def check_classifier(Xtrain, ytrain, Xvalidation, yvalidation, Xtest, ytest, clf):\n",
    "    print Xtrain.shape, ytrain.shape, Xvalidation.shape, yvalidation.shape\n",
    "    clf.fit(Xtrain, ytrain,\n",
    "           #eval_metric = \"auc\", \n",
    "            #early_stopping_rounds = 150,\n",
    "            #eval_set=((Xtrain, ytrain), (Xvalidation, yvalidation), ),\n",
    "            #verbose = False\n",
    "           )\n",
    "    print clf.score(Xtrain, ytrain)\n",
    "    print clf.score(Xtest, ytest)"
   ]
  },
  {
   "cell_type": "code",
   "execution_count": 110,
   "metadata": {
    "collapsed": true
   },
   "outputs": [],
   "source": [
    "clf.fit?"
   ]
  },
  {
   "cell_type": "code",
   "execution_count": 143,
   "metadata": {
    "collapsed": false
   },
   "outputs": [
    {
     "name": "stdout",
     "output_type": "stream",
     "text": [
      "(234677, 285) (234677,) (23467, 285) (23467,)\n",
      "0.928915061979\n",
      "0.923531216444\n",
      "(234677, 285) (234677,) (23467, 285) (23467,)\n",
      "0.928382414979\n",
      "0.923109372603\n",
      "(234677, 285) (234677,) (23467, 285) (23467,)\n",
      "0.929268739587\n",
      "0.922649179322\n",
      "1 loops, best of 1: 1h 24min 30s per loop\n"
     ]
    }
   ],
   "source": [
    "%%timeit -n 1 -r 1\n",
    "dc = lambda: xgb.XGBClassifier(n_estimators=100,learning_rate=0.02, max_depth = 10, subsample =0.85, \n",
    "                               colsample_bytree = 0.66)\n",
    "clf = dc()\n",
    "check_classifier(Xtrain, ytrain, Xvalidation, yvalidation, Xtest, ytest,clf )\n",
    "#check_xboost(Xtrain, ytrain, Xvalidation, yvalidation, Xtest, ytest)\n",
    "\n",
    "clf = dc()\n",
    "clfbag = BaggingClassifier(clf, n_estimators=5)\n",
    "check_classifier(Xtrain, ytrain,  Xvalidation, yvalidation, Xtest, ytest,clfbag )\n",
    "\n",
    "clf = dc()\n",
    "clf_isotonic = CalibratedClassifierCV(clf, cv=5, method='isotonic')\n",
    "check_classifier(Xtrain, ytrain,  Xvalidation, yvalidation, Xtest, ytest,clf_isotonic )"
   ]
  },
  {
   "cell_type": "code",
   "execution_count": 176,
   "metadata": {
    "collapsed": false
   },
   "outputs": [
    {
     "name": "stdout",
     "output_type": "stream",
     "text": [
      "0.917019012282\n",
      "0.916204866637\n"
     ]
    }
   ],
   "source": [
    "from sklearn.linear_model import LogisticRegression\n",
    "clf = LogisticRegression()\n",
    "clf_isotonic = CalibratedClassifierCV(clf, cv=5, method='isotonic')\n",
    "check_classifier(Xtrain, ytrain, Xtest, ytest,clf_isotonic )"
   ]
  },
  {
   "cell_type": "code",
   "execution_count": 177,
   "metadata": {
    "collapsed": false
   },
   "outputs": [
    {
     "name": "stdout",
     "output_type": "stream",
     "text": [
      "0.993024994966\n",
      "0.899292439263\n",
      "0.9801200372\n",
      "0.90690494909\n",
      "0.998686493897\n",
      "0.909397710495\n"
     ]
    }
   ],
   "source": [
    "\n",
    "clf = RandomForestClassifier(n_estimators=111, n_jobs=-1)\n",
    "check_classifier(Xtrain, ytrain, Xtest, ytest,clf )\n",
    "\n",
    "clf = RandomForestClassifier(n_estimators=111, n_jobs=-1)\n",
    "clfbag = BaggingClassifier(clf, n_estimators=5)\n",
    "check_classifier(Xtrain, ytrain, Xtest, ytest,clfbag )\n",
    "\n",
    "clf = RandomForestClassifier(n_estimators=111, n_jobs=-1)\n",
    "clf_isotonic = CalibratedClassifierCV(clf, cv=5, method='isotonic')\n",
    "check_classifier(Xtrain, ytrain, Xtest, ytest,clf_isotonic )"
   ]
  },
  {
   "cell_type": "code",
   "execution_count": 178,
   "metadata": {
    "collapsed": false
   },
   "outputs": [
    {
     "name": "stdout",
     "output_type": "stream",
     "text": [
      "1.0\n",
      "0.910433165232\n",
      "0.984261895859\n",
      "0.909551111196\n",
      "1.0\n",
      "0.914958485935\n"
     ]
    }
   ],
   "source": [
    "\n",
    "clf = RandomForestClassifier(n_estimators=111, n_jobs=-1)\n",
    "check_classifier(Xtrain, ytrain, Xtest, ytest,clf )\n",
    "\n",
    "clf = RandomForestClassifier(n_estimators=111, n_jobs=-1)\n",
    "clfbag = BaggingClassifier(clf, n_estimators=5)\n",
    "check_classifier(Xtrain, ytrain, Xtest, ytest,clfbag )\n",
    "\n",
    "clf = RandomForestClassifier(n_estimators=111, n_jobs=-1)\n",
    "clf_isotonic = CalibratedClassifierCV(clf, cv=5, method='isotonic')\n",
    "check_classifier(Xtrain, ytrain, Xtest, ytest,clf_isotonic )"
   ]
  },
  {
   "cell_type": "code",
   "execution_count": 182,
   "metadata": {
    "collapsed": false
   },
   "outputs": [
    {
     "name": "stdout",
     "output_type": "stream",
     "text": [
      "0.416597156307\n",
      "0.413510766812\n",
      "0.40460302394\n",
      "0.400682633123\n",
      "0.810346976539\n",
      "0.812812793619\n"
     ]
    }
   ],
   "source": [
    "from sklearn.naive_bayes import GaussianNB\n",
    "\n",
    "clf = GaussianNB()\n",
    "check_classifier(Xtrain, ytrain, Xtest, ytest,clf )\n",
    "\n",
    "clf = GaussianNB()\n",
    "clfbag = BaggingClassifier(clf, n_estimators=5)\n",
    "check_classifier(Xtrain, ytrain, Xtest, ytest,clfbag )\n",
    "\n",
    "clf = GaussianNB()\n",
    "clf_isotonic = CalibratedClassifierCV(clf, cv=5, method='isotonic')\n",
    "check_classifier(Xtrain, ytrain, Xtest, ytest,clf_isotonic )"
   ]
  },
  {
   "cell_type": "code",
   "execution_count": null,
   "metadata": {
    "collapsed": false
   },
   "outputs": [],
   "source": [
    "from sklearn.neighbors import KNeighborsClassifier\n",
    "from sklearn.svm import SVC\n",
    "from itertools import product\n",
    "from sklearn.ensemble import VotingClassifier\n",
    "dc = lambda: KNeighborsClassifier(7)\n",
    "\n",
    "clf = dc()\n",
    "check_classifier(Xtrain, ytrain, Xtest, ytest,clf )\n",
    "\n",
    "clf = dc()\n",
    "clfbag = BaggingClassifier(clf, n_estimators=5)\n",
    "check_classifier(Xtrain, ytrain, Xtest, ytest,clfbag )\n",
    "\n",
    "clf = dc()\n",
    "clf_isotonic = CalibratedClassifierCV(clf, cv=5, method='isotonic')\n",
    "check_classifier(Xtrain, ytrain, Xtest, ytest,clf_isotonic )"
   ]
  },
  {
   "cell_type": "code",
   "execution_count": null,
   "metadata": {
    "collapsed": true
   },
   "outputs": [],
   "source": []
  },
  {
   "cell_type": "code",
   "execution_count": null,
   "metadata": {
    "collapsed": false
   },
   "outputs": [],
   "source": [
    "from sklearn.ensemble import VotingClassifier\n",
    "from sklearn.naive_bayes import GaussianNB\n",
    "clf1 = LogisticRegression(random_state=1)\n",
    "clf1_isotonic = CalibratedClassifierCV(clf1, cv=5, method='isotonic')\n",
    "\n",
    "clf2 = RandomForestClassifier(n_estimators = 111)\n",
    "clf2_isotonic = CalibratedClassifierCV(clf2, cv=5, method='isotonic')\n",
    "\n",
    "clf3 = GaussianNB()\n",
    "clf3_isotonic = CalibratedClassifierCV(clf3, cv=5, method='isotonic')\n",
    "\n",
    "eclf = VotingClassifier(estimators=[('lr', clf1_isotonic), \n",
    "                                    ('rf', clf2_isotonic), \n",
    "                                    ('gnb', clf3_isotonic)], voting='soft')\n",
    "check_classifier(Xtrain, ytrain, Xtest, ytest,eclf )"
   ]
  },
  {
   "cell_type": "code",
   "execution_count": null,
   "metadata": {
    "collapsed": true
   },
   "outputs": [],
   "source": [
    "import sklearn\n",
    "sklearn.__file__"
   ]
  }
 ],
 "metadata": {
  "kernelspec": {
   "display_name": "Python 2",
   "language": "python",
   "name": "python2"
  },
  "language_info": {
   "codemirror_mode": {
    "name": "ipython",
    "version": 2
   },
   "file_extension": ".py",
   "mimetype": "text/x-python",
   "name": "python",
   "nbconvert_exporter": "python",
   "pygments_lexer": "ipython2",
   "version": "2.7.11"
  }
 },
 "nbformat": 4,
 "nbformat_minor": 0
}
